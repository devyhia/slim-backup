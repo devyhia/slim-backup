{
 "cells": [
  {
   "cell_type": "code",
   "execution_count": 1,
   "metadata": {
    "collapsed": false
   },
   "outputs": [],
   "source": [
    "from Inception_V4 import *\n",
    "\n",
    "vgg = InceptionV4(\"test\")\n",
    "\n",
    "config = tf.ConfigProto(allow_soft_placement=True, device_count = {'GPU': 1})\n",
    "\n",
    "sess = tf.Session(config=config)\n",
    "saver = tf.train.Saver()\n",
    "\n",
    "sess.run(tf.initialize_all_variables())"
   ]
  },
  {
   "cell_type": "code",
   "execution_count": 2,
   "metadata": {
    "collapsed": false
   },
   "outputs": [],
   "source": [
    "tinyImageNetDir = \"/home/devyhia/vgg\"\n",
    "Xt, yt = np.load(\"{}/Xt.npy\".format(tinyImageNetDir)), np.load(\"{}/yt.npy\".format(tinyImageNetDir))\n",
    "Xt = vgg.resize_images(Xt)"
   ]
  },
  {
   "cell_type": "code",
   "execution_count": 3,
   "metadata": {
    "collapsed": true
   },
   "outputs": [],
   "source": [
    "def update_screen(msg):\n",
    "    sys.stdout.write(msg)\n",
    "    sys.stdout.flush()"
   ]
  },
  {
   "cell_type": "code",
   "execution_count": 5,
   "metadata": {
    "collapsed": true
   },
   "outputs": [],
   "source": [
    "models = [\"model{}\".format(i) for i in range(1,5)]"
   ]
  },
  {
   "cell_type": "code",
   "execution_count": 15,
   "metadata": {
    "collapsed": false,
    "scrolled": false
   },
   "outputs": [
    {
     "name": "stdout",
     "output_type": "stream",
     "text": [
      "Loading model (model1) ...\n",
      "5000 out of 5000\n",
      "model1: Top-5 Accuracy=0.953399777412\n",
      "Loading model (model2) ...\n",
      "5000 out of 5000\n",
      "model2: Top-5 Accuracy=0.948199748993\n",
      "Loading model (model3) ...\n",
      "5000 out of 5000\n",
      "model3: Top-5 Accuracy=0.953199625015\n",
      "Loading model (model4) ...\n",
      "5000 out of 5000\n",
      "model4: Top-5 Accuracy=0.954399764538\n"
     ]
    }
   ],
   "source": [
    "sample_idx = range(0, Xt.shape[0])\n",
    "\n",
    "for model in models:\n",
    "    print(\"Loading model ({}) ...\".format(model))\n",
    "    saver.restore(sess, \"{}.tfmodel\".format(model))\n",
    "    fc3ls = None\n",
    "    size = Xt.shape[0]\n",
    "    step = 25\n",
    "    for i in range(size / step):\n",
    "        [fc3l] = sess.run([vgg.logits], feed_dict={vgg.X: Xt[sample_idx[i*step:(i+1)*step]], vgg.y: yt[sample_idx[i*step:(i+1)*step]]})\n",
    "        update_screen(\"\\r{} out of {}\".format((i+1)*step, size))\n",
    "        if i == 0:\n",
    "            fc3ls = fc3l\n",
    "        else:\n",
    "            fc3ls = np.vstack((fc3ls, fc3l))\n",
    "    update_screen(\"\\n\")\n",
    "    probs, accuracy = sess.run([vgg.probs, vgg.top_5_accuracy], feed_dict={vgg.logits: fc3ls, vgg.y: yt[sample_idx]})\n",
    "\n",
    "#     probs, acc = vgg.predict_proba(sess, Xt, yt, size=Xt.shape[0])\n",
    "    np.save(\"probs/{}.probs\".format(model), probs)\n",
    "    print(\"{}: Top-5 Accuracy={}\".format(model, accuracy))"
   ]
  },
  {
   "cell_type": "markdown",
   "metadata": {},
   "source": [
    "## Ensemble"
   ]
  },
  {
   "cell_type": "code",
   "execution_count": 6,
   "metadata": {
    "collapsed": false
   },
   "outputs": [
    {
     "name": "stdout",
     "output_type": "stream",
     "text": [
      "Average Ensemble: \n",
      "Top-1 Accuracy=0.0100\n",
      "Top-5 Accuracy=0.0454\n"
     ]
    }
   ],
   "source": [
    "import sklearn.metrics as metrics\n",
    "\n",
    "probs = [ np.load(\"probs/{}.probs.npy\".format(model)) for model in models ]\n",
    "\n",
    "# Normalized Weights\n",
    "avg_probs = probs[0]\n",
    "\n",
    "# Average Probabilities\n",
    "for p in probs[1:]:\n",
    "    avg_probs += p\n",
    "\n",
    "avg_probs /= len(probs)\n",
    "\n",
    "# Calculate Accuracy\n",
    "probs_test = tf.placeholder(tf.float32, shape=[None, 100])\n",
    "y_test = tf.placeholder(tf.float32, shape=[None, 100])\n",
    "correct_prediction_test = tf.equal(tf.argmax(probs_test,1), tf.argmax(y_test,1))\n",
    "top_5_correct_prediction_test = tf.nn.in_top_k(probs_test, tf.argmax(y_test,1), 5)\n",
    "accuracy_test = tf.reduce_mean(tf.cast(correct_prediction_test, tf.float32))\n",
    "top_5_accuracy_test = tf.reduce_mean(tf.cast(top_5_correct_prediction_test, tf.float32))\n",
    "\n",
    "config = tf.ConfigProto(\n",
    "    # log_device_placement=True,\n",
    "    allow_soft_placement=True,\n",
    "    # gpu_options = tf.GPUOptions(per_process_gpu_memory_fraction=0.5),\n",
    "    device_count = {'GPU': 1}\n",
    ")\n",
    "\n",
    "sess = tf.Session(config=config)\n",
    "acc, top5acc = sess.run([accuracy_test, top_5_accuracy_test], feed_dict={probs_test: avg_probs, y_test: yt})\n",
    "\n",
    "print(\"Average Ensemble: \\nTop-1 Accuracy={0:.4f}\\nTop-5 Accuracy={1:.4f}\".format(acc, top5acc))"
   ]
  },
  {
   "cell_type": "code",
   "execution_count": null,
   "metadata": {
    "collapsed": true
   },
   "outputs": [],
   "source": []
  }
 ],
 "metadata": {
  "kernelspec": {
   "display_name": "Python 2.7 (Tensorflow)",
   "language": "python",
   "name": "tensorflow"
  },
  "language_info": {
   "codemirror_mode": {
    "name": "ipython",
    "version": 2
   },
   "file_extension": ".py",
   "mimetype": "text/x-python",
   "name": "python",
   "nbconvert_exporter": "python",
   "pygments_lexer": "ipython2",
   "version": "2.7.12"
  }
 },
 "nbformat": 4,
 "nbformat_minor": 2
}
