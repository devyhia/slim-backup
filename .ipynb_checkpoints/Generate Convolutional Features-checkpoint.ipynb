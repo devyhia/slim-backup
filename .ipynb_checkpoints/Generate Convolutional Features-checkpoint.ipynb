{
 "cells": [
  {
   "cell_type": "code",
   "execution_count": null,
   "metadata": {
    "collapsed": true
   },
   "outputs": [],
   "source": [
    "import argparse\n",
    "\n",
    "parser = argparse.ArgumentParser(description='RNN-CNN Network.')\n",
    "parser.add_argument('--models', nargs='+', default=2, help='List of models')\n",
    "parser.add_argument('--gpu', default=3, help='GPU to use for train')\n",
    "parser.add_argument('--data', default=\"X\", help='Data to be transformed')\n",
    "args, unknown_args = parser.parse_known_args()"
   ]
  },
  {
   "cell_type": "code",
   "execution_count": 8,
   "metadata": {
    "collapsed": true
   },
   "outputs": [],
   "source": [
    "import pickle"
   ]
  },
  {
   "cell_type": "code",
   "execution_count": 20,
   "metadata": {
    "collapsed": false
   },
   "outputs": [],
   "source": [
    "import os\n",
    "\n",
    "os.environ[\"gpu\"] = str(args.gpu)\n",
    "\n",
    "from InceptionV4 import *\n",
    "\n",
    "vgg = InceptionV4(\"test\")\n",
    "\n",
    "config = tf.ConfigProto(allow_soft_placement=True, device_count = {'GPU': 1})\n",
    "\n",
    "sess = tf.Session(config=config)\n",
    "saver = tf.train.Saver()\n",
    "\n",
    "sess.run(tf.initialize_all_variables())"
   ]
  },
  {
   "cell_type": "code",
   "execution_count": 33,
   "metadata": {
    "collapsed": false
   },
   "outputs": [],
   "source": [
    "tinyImageNetDir = \"/home/devyhia/vgg\"\n",
    "Xt, yt = np.load(\"{}/{}.npy\".format(tinyImageNetDir, args.data)), np.load(\"{}/{}.npy\".format(tinyImageNetDir, \"y\" if args.data == \"X\" else \"yt\"))"
   ]
  },
  {
   "cell_type": "code",
   "execution_count": 3,
   "metadata": {
    "collapsed": true
   },
   "outputs": [],
   "source": [
    "# Xt = vgg.resize_images(Xt)"
   ]
  },
  {
   "cell_type": "code",
   "execution_count": 11,
   "metadata": {
    "collapsed": true
   },
   "outputs": [],
   "source": [
    "def update_screen(msg):\n",
    "    sys.stdout.write(msg)\n",
    "    sys.stdout.flush()"
   ]
  },
  {
   "cell_type": "code",
   "execution_count": 12,
   "metadata": {
    "collapsed": true
   },
   "outputs": [],
   "source": [
    "# models = [\"model{}\".format(i) for i in range(1,5)]"
   ]
  },
  {
   "cell_type": "code",
   "execution_count": null,
   "metadata": {
    "collapsed": false
   },
   "outputs": [
    {
     "name": "stdout",
     "output_type": "stream",
     "text": [
      "Loading model (model2) ...\n",
      "3900 out of 50000"
     ]
    }
   ],
   "source": [
    "sample_idx = range(0, Xt.shape[0])\n",
    "\n",
    "for model in args.models:\n",
    "    print(\"Loading model ({}) ...\".format(model))\n",
    "    saver.restore(sess, \"{}.tfmodel\".format(model))\n",
    "    fc3ls, preds = [], []\n",
    "    size = Xt.shape[0]\n",
    "    step = 50\n",
    "    for i in range(size / step):\n",
    "        [fc3l, pred] = sess.run([vgg.end_points[\"PreLogitsFlatten\"], vgg.end_points[\"Predictions\"]], feed_dict={vgg.X: vgg.resize_images(Xt[sample_idx[i*step:(i+1)*step]]) })\n",
    "        update_screen(\"\\r{} out of {}\".format((i+1)*step, size))\n",
    "        fc3ls.append(fc3l)\n",
    "        preds.append(pred)\n",
    "    \n",
    "    update_screen(\"\\n\")\n",
    "    fc3ls = np.vstack(fc3ls)\n",
    "    preds = np.vstack(preds)\n",
    "    np.save(\"features/{}.PreLogitsFlatten.{}\".format(model, args.data), fc3ls)\n",
    "    np.save(\"features/{}.Predictions.{}\".format(model, args.data), preds)"
   ]
  },
  {
   "cell_type": "code",
   "execution_count": null,
   "metadata": {
    "collapsed": true
   },
   "outputs": [],
   "source": []
  }
 ],
 "metadata": {
  "kernelspec": {
   "display_name": "Python 2.7 (Tensorflow)",
   "language": "python",
   "name": "tensorflow"
  },
  "language_info": {
   "codemirror_mode": {
    "name": "ipython",
    "version": 2
   },
   "file_extension": ".py",
   "mimetype": "text/x-python",
   "name": "python",
   "nbconvert_exporter": "python",
   "pygments_lexer": "ipython2",
   "version": "2.7.12"
  }
 },
 "nbformat": 4,
 "nbformat_minor": 2
}
