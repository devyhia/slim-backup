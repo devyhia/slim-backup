{
 "cells": [
  {
   "cell_type": "code",
   "execution_count": 5,
   "metadata": {
    "collapsed": true
   },
   "outputs": [],
   "source": [
    "import numpy as np\n",
    "import pandas as pd"
   ]
  },
  {
   "cell_type": "code",
   "execution_count": 1,
   "metadata": {
    "collapsed": true
   },
   "outputs": [],
   "source": [
    "import argparse\n",
    "\n",
    "parser = argparse.ArgumentParser(description='Make Ensemble Submission')\n",
    "parser.add_argument('--name', help='Name of Kaggle Submission')\n",
    "parser.add_argument('--models', nargs='+', help='List of models')\n",
    "args, unknown_args = parser.parse_known_args()"
   ]
  },
  {
   "cell_type": "code",
   "execution_count": null,
   "metadata": {
    "collapsed": true
   },
   "outputs": [],
   "source": [
    "probs = []\n",
    "probs_ens = None\n",
    "\n",
    "for model in args.models:\n",
    "    prob = np.load(\"CatVsDogs.Xt.{}.npy\".format(model))\n",
    "    probs.append(prob)\n",
    "\n",
    "probs_ens = probs[0]\n",
    "for prob in probs[1:]:\n",
    "    probs_ens += prob\n",
    "\n",
    "probs_ens /= len(probs)\n",
    "\n",
    "submission = np.hstack((np.arange(1, probs_ens.shape[0]+1, 1).reshape(-1, 1), probs_ens[:, 0].reshape(-1,1)))\n",
    "df_submission = pd.DataFrame(submission, columns=[\"id\", \"label\"])\n",
    "df_submission[\"id\"] = df_submission[\"id\"].astype(np.int)\n",
    "df_submission.to_csv(\"submission_{}.csv\".format(args.name), index=False)"
   ]
  }
 ],
 "metadata": {
  "kernelspec": {
   "display_name": "Python 2.7 (Tensorflow)",
   "language": "python",
   "name": "tensorflow"
  },
  "language_info": {
   "codemirror_mode": {
    "name": "ipython",
    "version": 2
   },
   "file_extension": ".py",
   "mimetype": "text/x-python",
   "name": "python",
   "nbconvert_exporter": "python",
   "pygments_lexer": "ipython2",
   "version": "2.7.12"
  }
 },
 "nbformat": 4,
 "nbformat_minor": 2
}
