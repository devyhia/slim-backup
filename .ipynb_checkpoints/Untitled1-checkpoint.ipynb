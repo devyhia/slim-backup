{
 "cells": [
  {
   "cell_type": "code",
   "execution_count": 11,
   "metadata": {
    "collapsed": false
   },
   "outputs": [],
   "source": [
    "import tensorflow as tf, os, numpy as np\n",
    "os.environ[\"CUDA_VISIBLE_DEVICES\"] = str(3)"
   ]
  },
  {
   "cell_type": "code",
   "execution_count": 29,
   "metadata": {
    "collapsed": false
   },
   "outputs": [],
   "source": [
    "X = tf.placeholder(tf.int16, shape=[None, 1])\n",
    "Y = tf.placeholder(tf.int16, shape=[None, 1])\n",
    "endres = tf.gather(Y, tf.where(tf.not_equal(X, Y)))"
   ]
  },
  {
   "cell_type": "code",
   "execution_count": 31,
   "metadata": {
    "collapsed": false
   },
   "outputs": [
    {
     "data": {
      "text/plain": [
       "[array([[ True],\n",
       "        [False],\n",
       "        [False],\n",
       "        [ True],\n",
       "        [False],\n",
       "        [ True],\n",
       "        [False],\n",
       "        [ True]], dtype=bool), array([[0, 0],\n",
       "        [3, 0],\n",
       "        [5, 0],\n",
       "        [7, 0]]), array([[[  10],\n",
       "         [  10]],\n",
       " \n",
       "        [[   9],\n",
       "         [  10]],\n",
       " \n",
       "        [[1283],\n",
       "         [  10]],\n",
       " \n",
       "        [[   8],\n",
       "         [  10]]], dtype=int16)]"
      ]
     },
     "execution_count": 31,
     "metadata": {},
     "output_type": "execute_result"
    }
   ],
   "source": [
    "sess = tf.Session()\n",
    "sess.run([cond, res, endres], feed_dict={ X: np.array([1,2,3,1,2,1,3,4]).reshape(-1,1), Y: np.array([10,2,3,9,2,1283,3,8]).reshape(-1,1) })"
   ]
  },
  {
   "cell_type": "code",
   "execution_count": null,
   "metadata": {
    "collapsed": true
   },
   "outputs": [],
   "source": []
  }
 ],
 "metadata": {
  "kernelspec": {
   "display_name": "Python 2.7 (Tensorflow)",
   "language": "python",
   "name": "tensorflow"
  },
  "language_info": {
   "codemirror_mode": {
    "name": "ipython",
    "version": 2
   },
   "file_extension": ".py",
   "mimetype": "text/x-python",
   "name": "python",
   "nbconvert_exporter": "python",
   "pygments_lexer": "ipython2",
   "version": "2.7.12"
  }
 },
 "nbformat": 4,
 "nbformat_minor": 2
}
