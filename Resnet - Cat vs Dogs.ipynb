{
 "cells": [
  {
   "cell_type": "code",
   "execution_count": 4,
   "metadata": {
    "collapsed": true
   },
   "outputs": [],
   "source": [
    "import CatVsDogs\n",
    "import Shared\n",
    "\n",
    "Shared.DIM = 299\n",
    "CatVsDogs.DIM = 299\n",
    "\n",
    "import tensorflow as tf\n",
    "from nets import resnet_v1\n",
    "slim = tf.contrib.slim\n",
    "\n",
    "parser = Shared.define_parser(klass='Resnet')\n",
    "parser.add_argument('--version', default='101', help='Resnet Version: 101 or 152')\n",
    "args, unknown_args = parser.parse_known_args()"
   ]
  },
  {
   "cell_type": "code",
   "execution_count": 11,
   "metadata": {
    "collapsed": true
   },
   "outputs": [],
   "source": [
    "class Resnet:\n",
    "    def __init__(self, model_name, isTesting=False):\n",
    "        Shared.define_model(self, model_name, self.__model)\n",
    "    \n",
    "    def __get_init_fn(self):\n",
    "        return Shared.get_init_fn('resnet_v1_{}.ckpt'.format(args.version), [\"resnet_v1_{}/logits\".format(args.version)])\n",
    "        \n",
    "    def __model(self):\n",
    "        # Create the model, use the default arg scope to configure the batch norm parameters.\n",
    "        with slim.arg_scope(resnet_v1.resnet_arg_scope()):\n",
    "            if args.version == '101':\n",
    "                self.logits, self.end_points = resnet_v1.resnet_v1_101(self.X_Norm, 2, is_training=True)\n",
    "            else:\n",
    "                self.logits, self.end_points = resnet_v1.resnet_v1_152(self.X_Norm, 2, is_training=True)\n",
    "    \n",
    "    def train(self, sess, X, y, val_X, val_y, epochs=30, minibatch_size=50, optimizer=None):\n",
    "        self.init_fn = self.__get_init_fn()\n",
    "        return Shared.train_model(self, sess, X, y, val_X, val_y, epochs, minibatch_size, optimizer)\n",
    "        \n",
    "    def load_model(self, sess):\n",
    "        return Shared.load_model(self, sess)\n",
    "    \n",
    "    def predict_proba(self, sess, X, step=10):\n",
    "        return Shared.predict_proba(self, sess, X, step)"
   ]
  },
  {
   "cell_type": "code",
   "execution_count": null,
   "metadata": {
    "collapsed": false
   },
   "outputs": [],
   "source": [
    "Shared.main(Resnet, args)"
   ]
  }
 ],
 "metadata": {
  "kernelspec": {
   "display_name": "Python 2.7 (Tensorflow)",
   "language": "python",
   "name": "tensorflow"
  },
  "language_info": {
   "codemirror_mode": {
    "name": "ipython",
    "version": 2
   },
   "file_extension": ".py",
   "mimetype": "text/x-python",
   "name": "python",
   "nbconvert_exporter": "python",
   "pygments_lexer": "ipython2",
   "version": "2.7.12"
  }
 },
 "nbformat": 4,
 "nbformat_minor": 2
}
