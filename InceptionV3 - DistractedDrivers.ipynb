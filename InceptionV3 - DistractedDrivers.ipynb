{
 "cells": [
  {
   "cell_type": "code",
   "execution_count": 1,
   "metadata": {
    "collapsed": true
   },
   "outputs": [],
   "source": [
    "import DistractedDriver\n",
    "import Shared\n",
    "\n",
    "import tensorflow as tf\n",
    "from nets import inception_v3\n",
    "slim = tf.contrib.slim\n",
    "\n",
    "parser = Shared.define_parser(klass='InceptionV3')\n",
    "parser.add_argument('--depth', nargs='*', help='Special Deep Logits Architecture?')\n",
    "parser.add_argument('--on-segmented', dest='on_segmented', default=False, action='store_true', help='Train on segmented')\n",
    "args, unknown_args = parser.parse_known_args()\n",
    "\n",
    "Shared.DIM = 299\n",
    "Shared.N_CLASSES = 10\n",
    "if args.on_segmented:\n",
    "    Shared.load_training_data = lambda: DistractedDriver.load_segmented_data(progressBar=True)\n",
    "else:\n",
    "    Shared.load_training_data = lambda: DistractedDriver.load_data(progressBar=True)"
   ]
  },
  {
   "cell_type": "code",
   "execution_count": null,
   "metadata": {
    "collapsed": true
   },
   "outputs": [],
   "source": [
    "class InceptionV3:\n",
    "    def __init__(self, model_name, isTesting=False):\n",
    "        Shared.define_model(self, model_name, self.__model)\n",
    "    \n",
    "    def __get_init_fn(self):\n",
    "        return Shared.get_init_fn('inception_v3.ckpt', [\"InceptionV3/Logits\", \"InceptionV3/AuxLogits\"])\n",
    "        \n",
    "    def __model(self):\n",
    "        # Create the model, use the default arg scope to configure the batch norm parameters.\n",
    "        with slim.arg_scope(inception_v3.inception_v3_arg_scope()):\n",
    "            self.logits, self.end_points = inception_v3.inception_v3(self.X_Norm, len(DistractedDriver.CLASSES), is_training=True)\n",
    "            \n",
    "    def train(self, sess, X, y, val_X, val_y, epochs=30, minibatch_size=50, optimizer=None):\n",
    "        self.init_fn = self.__get_init_fn()\n",
    "        return Shared.train_model(self, sess, X, y, val_X, val_y, epochs, minibatch_size, optimizer)\n",
    "        \n",
    "    def load_model(self, sess):\n",
    "        return Shared.load_model(self, sess)\n",
    "    \n",
    "    def predict_proba(self, sess, X, step=10):\n",
    "        return Shared.predict_proba(self, sess, X, step)"
   ]
  },
  {
   "cell_type": "code",
   "execution_count": null,
   "metadata": {
    "collapsed": false
   },
   "outputs": [],
   "source": [
    "if __name__ == \"__main__\":\n",
    "    Shared.main(InceptionV3, args)"
   ]
  }
 ],
 "metadata": {
  "kernelspec": {
   "display_name": "Python 2.7 (Tensorflow)",
   "language": "python",
   "name": "tensorflow"
  },
  "language_info": {
   "codemirror_mode": {
    "name": "ipython",
    "version": 2
   },
   "file_extension": ".py",
   "mimetype": "text/x-python",
   "name": "python",
   "nbconvert_exporter": "python",
   "pygments_lexer": "ipython2",
   "version": "2.7.12"
  }
 },
 "nbformat": 4,
 "nbformat_minor": 2
}
