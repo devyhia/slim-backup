{
 "cells": [
  {
   "cell_type": "code",
   "execution_count": 2,
   "metadata": {
    "collapsed": false
   },
   "outputs": [],
   "source": [
    "import tensorflow as tf, os, numpy as np, cv2\n",
    "os.environ[\"CUDA_VISIBLE_DEVICES\"] = str(3)"
   ]
  },
  {
   "cell_type": "code",
   "execution_count": 32,
   "metadata": {
    "collapsed": true
   },
   "outputs": [],
   "source": [
    "tf.reset_default_graph()\n",
    "X = tf.placeholder(tf.float32, shape=[None, 224, 224, 3])"
   ]
  },
  {
   "cell_type": "code",
   "execution_count": 33,
   "metadata": {
    "collapsed": false
   },
   "outputs": [],
   "source": [
    "summaries = []\n",
    "A = tf.placeholder(tf.float32, shape=[None])\n",
    "B = tf.placeholder(tf.float32, shape=[None])\n",
    "sel = tf.equal(A, B)\n",
    "cond = tf.where(sel)\n",
    "images = tf.reshape(tf.gather(X, cond), [-1, 224, 224, 3])\n",
    "# summaries += [ tf.image_summary('Image', images) ]"
   ]
  },
  {
   "cell_type": "code",
   "execution_count": 34,
   "metadata": {
    "collapsed": false
   },
   "outputs": [],
   "source": [
    "sess = tf.Session()\n",
    "\n",
    "tf_logs = tf.train.SummaryWriter(\"logs/{}\".format(\"Test\"), sess.graph, max_queue=0)\n",
    "# tf_summary = tf.merge_summary(summaries)"
   ]
  },
  {
   "cell_type": "code",
   "execution_count": 19,
   "metadata": {
    "collapsed": false
   },
   "outputs": [],
   "source": [
    "TRAIN_DIR = '/home/devyhia/cats.vs.dogs/train/'\n",
    "TEST_DIR = '/home/devyhia/cats.vs.dogs/test/'\n",
    "\n",
    "ROWS = 224\n",
    "COLS = 224\n",
    "CHANNELS = 3\n",
    "SLICE = 10000\n",
    "\n",
    "train_images = [TRAIN_DIR+i for i in os.listdir(TRAIN_DIR)][:10]\n",
    "\n",
    "#     Bagging Code\n",
    "# test_images =  [TEST_DIR+i for i in os.listdir(TEST_DIR)]\n",
    "#     bag = int(args.bag)\n",
    "#     bag_start = bag * 3125\n",
    "#     bag_end = (bag+1) * 3125\n",
    "\n",
    "#     # slice datasets for memory efficiency on Kaggle Kernels, delete if using full dataset\n",
    "#     train_images = train_dogs[:bag_start] + train_dogs[bag_end:] + train_cats[:bag_start] + train_cats[bag_end:]\n",
    "#     valid_images = train_dogs[bag_start:bag_end] + train_cats[bag_start:bag_end]\n",
    "\n",
    "def read_image(file_path):\n",
    "    img = cv2.imread(file_path, cv2.IMREAD_COLOR) #cv2.IMREAD_GRAYSCALE\n",
    "    return cv2.resize(img, (ROWS, COLS), interpolation=cv2.INTER_CUBIC)\n",
    "\n",
    "\n",
    "def prep_data(images):\n",
    "    count = len(images)\n",
    "    data = np.ndarray((count, ROWS, COLS, CHANNELS), dtype=np.uint8)\n",
    "\n",
    "    for i, image_file in enumerate(images):\n",
    "        data[i] = read_image(image_file).astype(np.float32)\n",
    "\n",
    "    return data\n",
    "\n",
    "def get_label(path):\n",
    "    return 1 if re.search(\"(cat|dog)\\.(\\d+)\\.\", path).group(1) == 'cat' else 0\n",
    "\n",
    "data = prep_data(train_images)"
   ]
  },
  {
   "cell_type": "code",
   "execution_count": 35,
   "metadata": {
    "collapsed": false
   },
   "outputs": [],
   "source": [
    "_sel, _cond, _images = sess.run([sel, cond, images], feed_dict={ A: np.array([1,1,1,0,1]), B: np.array([0,1,1,1,1]), X: data[:5] })\n",
    "# tf_logs.add_summary(s, 6)"
   ]
  },
  {
   "cell_type": "code",
   "execution_count": null,
   "metadata": {
    "collapsed": true
   },
   "outputs": [],
   "source": []
  }
 ],
 "metadata": {
  "kernelspec": {
   "display_name": "Python 2.7 (Tensorflow)",
   "language": "python",
   "name": "tensorflow"
  },
  "language_info": {
   "codemirror_mode": {
    "name": "ipython",
    "version": 2
   },
   "file_extension": ".py",
   "mimetype": "text/x-python",
   "name": "python",
   "nbconvert_exporter": "python",
   "pygments_lexer": "ipython2",
   "version": "2.7.12"
  }
 },
 "nbformat": 4,
 "nbformat_minor": 2
}
