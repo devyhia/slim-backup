{
 "cells": [
  {
   "cell_type": "code",
   "execution_count": 84,
   "metadata": {
    "collapsed": true
   },
   "outputs": [],
   "source": [
    "import argparse\n",
    "\n",
    "parser = argparse.ArgumentParser(description='Simple Network.')\n",
    "args, unknown_args = parser.parse_known_args()"
   ]
  },
  {
   "cell_type": "code",
   "execution_count": 85,
   "metadata": {
    "collapsed": true
   },
   "outputs": [],
   "source": [
    "import os, random, sys\n",
    "import numpy as np\n",
    "\n",
    "import tensorflow as tf\n",
    "from tensorflow.python.ops import rnn, rnn_cell\n",
    "slim = tf.contrib.slim"
   ]
  },
  {
   "cell_type": "code",
   "execution_count": 86,
   "metadata": {
    "collapsed": true
   },
   "outputs": [],
   "source": [
    "import sklearn.metrics as metrics\n",
    "import Shared"
   ]
  },
  {
   "cell_type": "code",
   "execution_count": 87,
   "metadata": {
    "collapsed": true
   },
   "outputs": [],
   "source": [
    "y = np.load('cache/y.original.npy')\n",
    "yt = np.load('cache/yt.original.npy')"
   ]
  },
  {
   "cell_type": "code",
   "execution_count": 188,
   "metadata": {
    "collapsed": true
   },
   "outputs": [],
   "source": [
    "models = [\n",
    "    'alexnet.distracted_driver.original.1',\n",
    "    'alexnet.distracted_driver.segmented.1',\n",
    "#     'alexnet.distracted_driver.face.1',\n",
    "#     'alexnet.distracted_driver.hands.1',\n",
    "#     'alexnet.distracted_driver.hands_and_face.1',\n",
    "#     'inceptionV3.distracted_driver.original.1',\n",
    "#     'inceptionV3.distracted_driver.segmented.1',\n",
    "#     'inceptionV3.distracted_driver.face.1',\n",
    "#     'inceptionV3.distracted_driver.hands.1',\n",
    "#     'inceptionV3.distracted_driver.hands_and_face.1',\n",
    "]"
   ]
  },
  {
   "cell_type": "code",
   "execution_count": 189,
   "metadata": {
    "collapsed": false
   },
   "outputs": [],
   "source": [
    "X = [ np.load(\"Prediction.X.{}.npy\".format(model)) for model in models ]\n",
    "Xt = [ np.load(\"Prediction.Xt.{}.npy\".format(model)) for model in models ]"
   ]
  },
  {
   "cell_type": "code",
   "execution_count": 190,
   "metadata": {
    "collapsed": false
   },
   "outputs": [
    {
     "name": "stdout",
     "output_type": "stream",
     "text": [
      "0.3909\t93.65\n",
      "0.3446\t93.60\n"
     ]
    }
   ],
   "source": [
    "for model in Xt:\n",
    "    print(\"{:.4f}\\t{:.2f}\".format(metrics.log_loss(yt, model), 100 * metrics.accuracy_score(yt.argmax(axis=1), model.argmax(axis=1))))"
   ]
  },
  {
   "cell_type": "code",
   "execution_count": 191,
   "metadata": {
    "collapsed": true
   },
   "outputs": [],
   "source": [
    "ens = lambda x: reduce(lambda prev, curr: prev+curr, x) / len(x)"
   ]
  },
  {
   "cell_type": "code",
   "execution_count": 192,
   "metadata": {
    "collapsed": false
   },
   "outputs": [
    {
     "name": "stdout",
     "output_type": "stream",
     "text": [
      "0.00246645230749\n",
      "(0.27270362937570819, 0.94296929115677675)\n"
     ]
    }
   ],
   "source": [
    "print(metrics.log_loss(y, ens(X)))\n",
    "print(metrics.log_loss(yt, ens(Xt)), metrics.accuracy_score(yt.argmax(axis=1), ens(Xt).argmax(axis=1)))"
   ]
  },
  {
   "cell_type": "code",
   "execution_count": 178,
   "metadata": {
    "collapsed": true
   },
   "outputs": [],
   "source": [
    "from random import randint, random, sample\n",
    "from operator import add\n",
    "\n",
    "def individual(length):\n",
    "    'Create a member of the population.'\n",
    "    return [ random() for x in xrange(length) ]\n",
    "\n",
    "def population(count, length):\n",
    "    \"\"\"\n",
    "    Create a number of individuals (i.e. a population).\n",
    "\n",
    "    count: the number of individuals in the population\n",
    "    length: the number of values per individual\n",
    "\n",
    "    \"\"\"\n",
    "    return [ individual(length) for x in xrange(count) ]\n",
    "\n",
    "def fitness(individual, portion=0.5):\n",
    "    \"\"\"\n",
    "    Determine the fitness of an individual. Higher is better.\n",
    "\n",
    "    individual: the individual to evaluate\n",
    "    target: the target number individuals are aiming for\n",
    "    \"\"\"\n",
    "    size = X[0].shape[0]\n",
    "    idx = sample(range(0, size), int(portion*size))\n",
    "    total = reduce(add, individual, 0)\n",
    "    ens = reduce(lambda prev, curr: prev + curr[0] * curr[1][idx], zip(individual, X), np.zeros(X[0][idx].shape)) / total\n",
    "    return metrics.log_loss(y[idx], ens)\n",
    "\n",
    "def grade(pop):\n",
    "    'Find average fitness for a population.'\n",
    "    summed = reduce(add, (fitness(x) for x in pop))\n",
    "    return summed / (len(pop) * 1.0)\n",
    "\n",
    "def evolve(pop, retain=0.2, random_select=0.1, mutate=0.05):\n",
    "    graded = [ (fitness(x), x) for x in pop]\n",
    "    graded = [ x[1] for x in sorted(graded)]\n",
    "    retain_length = int(len(graded)*retain)\n",
    "    parents = graded[:retain_length]\n",
    "    # randomly add other individuals to\n",
    "    # promote genetic diversity\n",
    "    for individual in graded[retain_length:]:\n",
    "        if random_select > random():\n",
    "            parents.append(individual)\n",
    "    # mutate some individuals\n",
    "    for individual in parents:\n",
    "        if mutate > random():\n",
    "            pos_to_mutate = randint(0, len(individual)-1)\n",
    "            # this mutation is not ideal, because it\n",
    "            # restricts the range of possible values,\n",
    "            # but the function is unaware of the min/max\n",
    "            # values used to create the individuals,\n",
    "            individual[pos_to_mutate] = random()\n",
    "    # crossover parents to create children\n",
    "    parents_length = len(parents)\n",
    "    desired_length = len(pop) - parents_length\n",
    "    children = []\n",
    "    while len(children) < desired_length:\n",
    "        male = randint(0, parents_length-1)\n",
    "        female = randint(0, parents_length-1)\n",
    "        if male != female:\n",
    "            male = parents[male]\n",
    "            female = parents[female]\n",
    "            half = len(male) / 2\n",
    "            child = male[:half] + female[half:]\n",
    "            children.append(child)\n",
    "    parents.extend(children)\n",
    "    return parents"
   ]
  },
  {
   "cell_type": "code",
   "execution_count": 182,
   "metadata": {
    "collapsed": false,
    "scrolled": true
   },
   "outputs": [
    {
     "name": "stdout",
     "output_type": "stream",
     "text": [
      "Step 9: Min Loss=0.000259512942775"
     ]
    }
   ],
   "source": [
    "# Example usage\n",
    "p_count = 50\n",
    "p = population(p_count, len(X))\n",
    "fitness_history = [grade(p),]\n",
    "for i in xrange(10):\n",
    "    p = evolve(p)\n",
    "    fitness_history.append(grade(p))\n",
    "    Shared.update_screen(\"\\rStep {}: Min Loss={}\".format(i, np.min(fitness_history)))"
   ]
  },
  {
   "cell_type": "code",
   "execution_count": 183,
   "metadata": {
    "collapsed": true
   },
   "outputs": [],
   "source": [
    "graded = [ (fitness(x, portion=1.0), x) for x in p]\n",
    "graded = [ x for x in sorted(graded)]"
   ]
  },
  {
   "cell_type": "code",
   "execution_count": 184,
   "metadata": {
    "collapsed": false
   },
   "outputs": [
    {
     "data": {
      "text/plain": [
       "(0.00069354553659086793,\n",
       " [0.5055497129632993,\n",
       "  0.03864812937582929,\n",
       "  0.9661346080012782,\n",
       "  0.9688160444116005])"
      ]
     },
     "execution_count": 184,
     "metadata": {},
     "output_type": "execute_result"
    }
   ],
   "source": [
    "graded[-1]"
   ]
  },
  {
   "cell_type": "code",
   "execution_count": 185,
   "metadata": {
    "collapsed": true
   },
   "outputs": [],
   "source": [
    "weights = graded[-1][1]\n",
    "total = reduce(add, weights, 0)\n",
    "probs_ens = reduce(lambda prev, curr: prev + curr[0] * curr[1], zip(weights, Xt), np.zeros(Xt[0].shape)) / total"
   ]
  },
  {
   "cell_type": "code",
   "execution_count": 186,
   "metadata": {
    "collapsed": false
   },
   "outputs": [
    {
     "name": "stdout",
     "output_type": "stream",
     "text": [
      "0.203550661114\n"
     ]
    }
   ],
   "source": [
    "print(metrics.log_loss(yt, probs_ens))"
   ]
  },
  {
   "cell_type": "code",
   "execution_count": 187,
   "metadata": {
    "collapsed": false
   },
   "outputs": [
    {
     "name": "stdout",
     "output_type": "stream",
     "text": [
      "0.954975756176\n"
     ]
    }
   ],
   "source": [
    "print(metrics.accuracy_score(yt.argmax(axis=1), probs_ens.argmax(axis=1)))"
   ]
  },
  {
   "cell_type": "code",
   "execution_count": 119,
   "metadata": {
    "collapsed": false
   },
   "outputs": [
    {
     "data": {
      "text/plain": [
       "(0.0012756510877630141,\n",
       " [0.18309921362793558,\n",
       "  0.4326389772065735,\n",
       "  0.10991134113843704,\n",
       "  0.01194613485192364,\n",
       "  0.00971146230693376,\n",
       "  0.9320650338477107,\n",
       "  0.8376795455837012,\n",
       "  0.08035432265243636,\n",
       "  0.39423251988088026,\n",
       "  0.7441139851401929])"
      ]
     },
     "execution_count": 119,
     "metadata": {},
     "output_type": "execute_result"
    }
   ],
   "source": [
    "graded[-1]"
   ]
  },
  {
   "cell_type": "code",
   "execution_count": 158,
   "metadata": {
    "collapsed": true
   },
   "outputs": [],
   "source": [
    "weights = graded[-1][1]\n",
    "weights = [0.18309921362793558,\n",
    "  0.4326389772065735,\n",
    "  0.10991134113843704,\n",
    "  0.01194613485192364,\n",
    "  0.00971146230693376,\n",
    "  0.9320650338477107,\n",
    "  0.8376795455837012,\n",
    "  0.08035432265243636,\n",
    "  0.39423251988088026,\n",
    "  0.7441139851401929]\n",
    "total = reduce(add, weights, 0)\n",
    "probs_ens = reduce(lambda prev, curr: prev + curr[0] * curr[1], zip(weights, Xt), np.zeros(Xt[0].shape)) / total"
   ]
  },
  {
   "cell_type": "code",
   "execution_count": 159,
   "metadata": {
    "collapsed": false
   },
   "outputs": [
    {
     "name": "stdout",
     "output_type": "stream",
     "text": [
      "0.157597373037\n"
     ]
    }
   ],
   "source": [
    "print(metrics.log_loss(yt, probs_ens))"
   ]
  },
  {
   "cell_type": "code",
   "execution_count": 160,
   "metadata": {
    "collapsed": false
   },
   "outputs": [
    {
     "name": "stdout",
     "output_type": "stream",
     "text": [
      "0.959824520896\n"
     ]
    }
   ],
   "source": [
    "print(metrics.accuracy_score(yt.argmax(axis=1), probs_ens.argmax(axis=1)))"
   ]
  },
  {
   "cell_type": "markdown",
   "metadata": {},
   "source": [
    "#### Make Submission"
   ]
  },
  {
   "cell_type": "code",
   "execution_count": null,
   "metadata": {
    "collapsed": true
   },
   "outputs": [],
   "source": [
    "import pandas as pd"
   ]
  },
  {
   "cell_type": "code",
   "execution_count": null,
   "metadata": {
    "collapsed": false
   },
   "outputs": [],
   "source": [
    "weights = graded[-1][1]\n",
    "total = reduce(add, weights, 0)\n",
    "probs_ens = reduce(lambda prev, curr: prev + curr[0] * curr[1], zip(weights, Xt), np.zeros(Xt[0].shape)) / total"
   ]
  },
  {
   "cell_type": "code",
   "execution_count": 38,
   "metadata": {
    "collapsed": false
   },
   "outputs": [],
   "source": [
    "submission = np.hstack((np.arange(1, probs_ens.shape[0]+1, 1).reshape(-1, 1), probs_ens[:, 0].reshape(-1,1)))\n",
    "df_submission = pd.DataFrame(submission, columns=[\"id\", \"label\"])\n",
    "df_submission[\"id\"] = df_submission[\"id\"].astype(np.int)\n",
    "df_submission.to_csv(\"submission_{}.csv\".format(\"deep_ensemble_ga_weights_least_fit\"), index=False)"
   ]
  },
  {
   "cell_type": "markdown",
   "metadata": {
    "collapsed": true
   },
   "source": [
    "### Statistics"
   ]
  },
  {
   "cell_type": "code",
   "execution_count": 149,
   "metadata": {
    "collapsed": true
   },
   "outputs": [],
   "source": [
    "import numpy as np\n",
    "import matplotlib.pyplot as plt\n",
    "\n",
    "plt.rc('text', usetex=False)\n",
    "plt.rc('font', family='serif')"
   ]
  },
  {
   "cell_type": "code",
   "execution_count": 150,
   "metadata": {
    "collapsed": true
   },
   "outputs": [],
   "source": [
    "import seaborn as sn"
   ]
  },
  {
   "cell_type": "code",
   "execution_count": 151,
   "metadata": {
    "collapsed": true
   },
   "outputs": [],
   "source": [
    "import itertools"
   ]
  },
  {
   "cell_type": "code",
   "execution_count": 162,
   "metadata": {
    "collapsed": false
   },
   "outputs": [
    {
     "data": {
      "text/plain": [
       "array([[857,   2,   1,   4,   2,  10,   8,  12,   0,  26],\n",
       "       [  0, 307,  10,   0,   7,   0,   2,   0,   0,   0],\n",
       "       [  4,  13, 322,   2,   0,   0,   0,   0,   0,   0],\n",
       "       [ 12,   7,   0, 466,   4,   1,   1,   1,   1,   1],\n",
       "       [  1,   2,   0,  16, 283,   0,   4,   0,   0,   0],\n",
       "       [ 17,   0,   0,   1,   0, 281,   3,   1,   0,   2],\n",
       "       [ 10,   0,   1,   2,   0,   1, 385,   4,   0,   0],\n",
       "       [ 14,   1,   0,   0,   1,   0,   3, 276,   1,   5],\n",
       "       [ 14,   0,   0,   1,   3,   0,   3,   2, 263,   4],\n",
       "       [ 20,   0,   0,   0,   0,   0,   4,   1,   2, 616]])"
      ]
     },
     "execution_count": 162,
     "metadata": {},
     "output_type": "execute_result"
    }
   ],
   "source": [
    "metrics.confusion_matrix(y_pred=Xt[0].argmax(axis=1), y_true=yt.argmax(axis=1))"
   ]
  },
  {
   "cell_type": "code",
   "execution_count": 163,
   "metadata": {
    "collapsed": false
   },
   "outputs": [
    {
     "data": {
      "text/plain": [
       "array([[867,   1,   2,   6,   2,   6,   6,   6,   3,  23],\n",
       "       [  4, 301,   8,   2,   5,   1,   5,   0,   0,   0],\n",
       "       [  2,  10, 326,   0,   0,   3,   0,   0,   0,   0],\n",
       "       [ 11,   4,   1, 466,   6,   2,   1,   0,   1,   2],\n",
       "       [  1,   3,   0,  12, 287,   0,   2,   0,   1,   0],\n",
       "       [ 10,   0,   1,   0,   0, 288,   3,   0,   2,   1],\n",
       "       [ 12,   1,   0,   1,   0,   4, 378,   2,   2,   3],\n",
       "       [ 16,   0,   0,   0,   1,   0,   2, 275,   0,   7],\n",
       "       [ 12,   0,   0,   2,   1,   0,   5,   5, 258,   7],\n",
       "       [ 16,   0,   1,   2,   1,   1,   8,   3,   3, 608]])"
      ]
     },
     "execution_count": 163,
     "metadata": {},
     "output_type": "execute_result"
    }
   ],
   "source": [
    "metrics.confusion_matrix(y_pred=Xt[1].argmax(axis=1), y_true=yt.argmax(axis=1))"
   ]
  },
  {
   "cell_type": "code",
   "execution_count": 165,
   "metadata": {
    "collapsed": false,
    "scrolled": true
   },
   "outputs": [
    {
     "data": {
      "text/plain": [
       "array([[799,   6,   4,  19,   0,  13,  20,  14,   9,  38],\n",
       "       [  9, 284,  12,   4,   5,   0,   5,   3,   2,   2],\n",
       "       [  5,  17, 303,   1,   1,   3,   7,   1,   1,   2],\n",
       "       [ 23,   9,   3, 426,  10,   6,   8,   1,   2,   6],\n",
       "       [  4,   5,   2,  17, 267,   0,   4,   4,   1,   2],\n",
       "       [ 16,   3,   0,   3,   0, 259,  10,   4,   6,   4],\n",
       "       [ 31,   2,   4,   7,   0,   7, 316,   7,  10,  19],\n",
       "       [ 27,   1,   2,   4,   6,   2,  14, 212,  22,  11],\n",
       "       [ 20,   2,   3,   3,   1,   4,   9,  22, 210,  16],\n",
       "       [ 24,   1,   1,   2,   1,   3,   8,  15,  14, 574]])"
      ]
     },
     "execution_count": 165,
     "metadata": {},
     "output_type": "execute_result"
    }
   ],
   "source": [
    "metrics.confusion_matrix(y_pred=Xt[2].argmax(axis=1), y_true=yt.argmax(axis=1))"
   ]
  },
  {
   "cell_type": "code",
   "execution_count": 166,
   "metadata": {
    "collapsed": false
   },
   "outputs": [
    {
     "data": {
      "text/plain": [
       "array([[836,   4,  10,  10,   1,   3,  17,   2,   1,  38],\n",
       "       [  6, 286,  17,   0,   4,   0,   5,   2,   0,   6],\n",
       "       [ 15,  18, 302,   1,   0,   1,   0,   1,   1,   2],\n",
       "       [ 13,   3,   0, 460,   4,   1,   6,   3,   0,   4],\n",
       "       [  0,   5,   2,  14, 271,   2,  11,   0,   1,   0],\n",
       "       [ 17,   0,   2,   0,   2, 272,   5,   2,   3,   2],\n",
       "       [ 14,   3,   0,   2,   3,   0, 366,   4,   1,  10],\n",
       "       [ 13,   2,   0,   4,   2,   0,   6, 268,   1,   5],\n",
       "       [ 13,   2,   0,   4,   3,   0,  10,   2, 243,  13],\n",
       "       [ 40,   2,   1,   0,   2,   1,  16,   2,   6, 573]])"
      ]
     },
     "execution_count": 166,
     "metadata": {},
     "output_type": "execute_result"
    }
   ],
   "source": [
    "metrics.confusion_matrix(y_pred=Xt[3].argmax(axis=1), y_true=yt.argmax(axis=1))"
   ]
  },
  {
   "cell_type": "code",
   "execution_count": 167,
   "metadata": {
    "collapsed": false
   },
   "outputs": [
    {
     "data": {
      "text/plain": [
       "array([[827,   6,   5,   9,   4,   6,  25,  10,   7,  23],\n",
       "       [ 10, 284,  14,   4,   4,   0,   3,   2,   3,   2],\n",
       "       [  9,  12, 309,   2,   2,   1,   5,   0,   0,   1],\n",
       "       [ 21,   2,   1, 442,   7,   2,   7,   5,   2,   5],\n",
       "       [  6,   7,   2,   9, 270,   1,   4,   2,   2,   3],\n",
       "       [ 20,   2,   1,   7,   1, 257,   3,   4,   4,   6],\n",
       "       [ 27,   3,   4,   3,   9,   4, 316,   9,  13,  15],\n",
       "       [ 15,   1,   4,   4,   3,   1,   8, 249,   8,   8],\n",
       "       [ 17,   1,   2,   4,   4,   0,  11,  13, 219,  19],\n",
       "       [ 31,   1,   2,   2,   2,   3,   7,   6,   8, 581]])"
      ]
     },
     "execution_count": 167,
     "metadata": {},
     "output_type": "execute_result"
    }
   ],
   "source": [
    "metrics.confusion_matrix(y_pred=Xt[4].argmax(axis=1), y_true=yt.argmax(axis=1))"
   ]
  },
  {
   "cell_type": "code",
   "execution_count": 161,
   "metadata": {
    "collapsed": false
   },
   "outputs": [
    {
     "data": {
      "text/plain": [
       "array([[879,   0,   3,   6,   1,   4,   4,   8,   1,  16],\n",
       "       [  1, 315,   4,   1,   3,   0,   1,   0,   1,   0],\n",
       "       [  1,  11, 329,   0,   0,   0,   0,   0,   0,   0],\n",
       "       [ 10,   3,   0, 475,   4,   0,   1,   0,   0,   1],\n",
       "       [  0,   1,   0,  15, 290,   0,   0,   0,   0,   0],\n",
       "       [ 13,   0,   0,   1,   0, 290,   0,   0,   0,   1],\n",
       "       [  3,   0,   0,   1,   0,   3, 395,   1,   0,   0],\n",
       "       [ 11,   0,   0,   0,   0,   0,   0, 287,   0,   3],\n",
       "       [ 11,   0,   0,   0,   0,   0,   4,   1, 269,   5],\n",
       "       [  9,   0,   0,   0,   0,   0,   3,   2,   1, 628]])"
      ]
     },
     "execution_count": 161,
     "metadata": {},
     "output_type": "execute_result"
    }
   ],
   "source": [
    "metrics.confusion_matrix(y_pred=probs_ens.argmax(axis=1), y_true=yt.argmax(axis=1))"
   ]
  },
  {
   "cell_type": "code",
   "execution_count": 154,
   "metadata": {
    "collapsed": true
   },
   "outputs": [],
   "source": [
    "CLASSES = [\n",
    "    \"Drive Safe\",\n",
    "    \"Text Left\",\n",
    "    \"Talk Left\",\n",
    "    \"Text Right\",\n",
    "    \"Talk Right\",\n",
    "    \"Adjust Radio\",\n",
    "    \"Drink\",\n",
    "    \"Hair & Makeup\",\n",
    "    \"Reach Behind\",\n",
    "    \"Talk Passenger\"\n",
    "]"
   ]
  },
  {
   "cell_type": "code",
   "execution_count": 155,
   "metadata": {
    "collapsed": false
   },
   "outputs": [
    {
     "name": "stdout",
     "output_type": "stream",
     "text": [
      "Confusion matrix, without normalization\n",
      "[[857   2   1   4   2  10   8  12   0  26]\n",
      " [  0 307  10   0   7   0   2   0   0   0]\n",
      " [  4  13 322   2   0   0   0   0   0   0]\n",
      " [ 12   7   0 466   4   1   1   1   1   1]\n",
      " [  1   2   0  16 283   0   4   0   0   0]\n",
      " [ 17   0   0   1   0 281   3   1   0   2]\n",
      " [ 10   0   1   2   0   1 385   4   0   0]\n",
      " [ 14   1   0   0   1   0   3 276   1   5]\n",
      " [ 14   0   0   1   3   0   3   2 263   4]\n",
      " [ 20   0   0   0   0   0   4   1   2 616]]\n"
     ]
    }
   ],
   "source": [
    "plot_confusion_matrix(cm, CLASSES)"
   ]
  },
  {
   "cell_type": "code",
   "execution_count": null,
   "metadata": {
    "collapsed": true
   },
   "outputs": [],
   "source": []
  }
 ],
 "metadata": {
  "kernelspec": {
   "display_name": "Python 2.7 (Tensorflow)",
   "language": "python",
   "name": "tensorflow"
  },
  "language_info": {
   "codemirror_mode": {
    "name": "ipython",
    "version": 2
   },
   "file_extension": ".py",
   "mimetype": "text/x-python",
   "name": "python",
   "nbconvert_exporter": "python",
   "pygments_lexer": "ipython2",
   "version": "2.7.12"
  }
 },
 "nbformat": 4,
 "nbformat_minor": 2
}
