{
 "cells": [
  {
   "cell_type": "code",
   "execution_count": 1,
   "metadata": {
    "collapsed": true
   },
   "outputs": [],
   "source": [
    "import argparse\n",
    "\n",
    "parser = argparse.ArgumentParser(description='Simple Network.')\n",
    "parser.add_argument('--gpu', default=2, help='GPU to use for train')\n",
    "parser.add_argument('--name', default=\"simple_network_1\", help='Name of the model to use for train')\n",
    "args, unknown_args = parser.parse_known_args()"
   ]
  },
  {
   "cell_type": "code",
   "execution_count": 2,
   "metadata": {
    "collapsed": false
   },
   "outputs": [],
   "source": [
    "import os, random, sys\n",
    "import numpy as np\n",
    "\n",
    "import tensorflow as tf\n",
    "from tensorflow.python.ops import rnn, rnn_cell\n",
    "slim = tf.contrib.slim\n",
    "\n",
    "from sklearn.metrics import log_loss as nll\n",
    "\n",
    "import Shared\n",
    "\n",
    "Shared.select_gpu(args.gpu)"
   ]
  },
  {
   "cell_type": "code",
   "execution_count": 3,
   "metadata": {
    "collapsed": true
   },
   "outputs": [],
   "source": [
    "class SimpleNetwork():\n",
    "    def __init__(self, name, n_in, n_out, start_learning_rate=0.1, end_learning_rate=0.0001):\n",
    "        tf.reset_default_graph()\n",
    "        self.name = name\n",
    "        with tf.name_scope(\"SimpleNetwork\") as scope:\n",
    "            self.X = tf.placeholder(tf.float32, shape=[None, n_in], name=\"X\")\n",
    "            self.Y = tf.placeholder(tf.float32, shape=[None, n_out], name=\"Y\")\n",
    "#             self.PreLogits = slim.fully_connected(self.X, 512, activation_fn=None, scope='PreLogits')\n",
    "            self.Logits = slim.fully_connected(self.X, n_out, activation_fn=None, scope='Logits')\n",
    "            self.Probs = tf.nn.softmax(self.Logits)\n",
    "\n",
    "            self.Cost = tf.reduce_mean(tf.nn.softmax_cross_entropy_with_logits(self.Logits, self.Y))\n",
    "            self.Optimizer = tf.train.AdamOptimizer(epsilon=.1, learning_rate=0.01).minimize(self.Cost)\n",
    "\n",
    "            # Evaluate model\n",
    "            self.CorrectPred = tf.equal(tf.argmax(self.Logits,1), tf.argmax(self.Y,1))\n",
    "            self.Top5CorrectPred = tf.nn.in_top_k(self.Probs, tf.argmax(self.Y,1), 5)\n",
    "\n",
    "            self.Accuracy = tf.reduce_mean(tf.cast(self.CorrectPred, tf.float32))\n",
    "            self.Top5Accuracy = tf.reduce_mean(tf.cast(self.Top5CorrectPred, tf.float32))\n",
    "            \n",
    "            self.saver = tf.train.Saver()\n",
    "    \n",
    "    def __iterate_minibatches(self, _X,_y, size):\n",
    "        if _X.shape[0] % size > 0:\n",
    "            raise \"The minibatch size should be a divisor of the batch size.\"\n",
    "\n",
    "        idx = np.arange(_X.shape[0]).astype(np.int32)\n",
    "        np.random.shuffle(idx) # in-place shuffling\n",
    "        for i in range(_X.shape[0] / size):\n",
    "            # To randomize the minibatches every time\n",
    "            _idx = idx[i*size:(i+1)*size]\n",
    "            _X_small = _X[_idx]\n",
    "            _y_small = _y[_idx]\n",
    "            yield _X_small, _y_small\n",
    "    \n",
    "    def predict_proba(self, sess, Xt, size=1000, step=10, randomize=True):\n",
    "        preds, probs = [], []\n",
    "        idx = range(0, Xt.shape[0])\n",
    "        sample_idx = random.sample(idx, size) if randomize else idx\n",
    "        for i in range(size / step):\n",
    "            _pred, _prob = sess.run([self.Logits, self.Probs], feed_dict={self.X: Xt[sample_idx[i*step:(i+1)*step]]})\n",
    "            preds.append(_pred)\n",
    "            probs.append(_prob)\n",
    "\n",
    "        preds = np.vstack(preds)\n",
    "        probs = np.vstack(probs)\n",
    "\n",
    "        return preds, probs, sample_idx\n",
    "    \n",
    "    def calculate_loss(self, sess, Xt, yt, size=1000, step=10):\n",
    "        preds, probs, sample_idx = self.predict_proba(sess, Xt, size=size, step=step)\n",
    "\n",
    "        loss, acc, top5acc = sess.run([self.Cost, self.Accuracy, self.Top5Accuracy], feed_dict={self.Logits: preds, self.Y: yt[sample_idx]})\n",
    "\n",
    "        return loss, acc, top5acc\n",
    "        \n",
    "    def train(self, sess, X, Y, Xt, Yt, epochs=100, batch_size=100, display_step=25):\n",
    "        sess.run(tf.initialize_all_variables())\n",
    "        self.prev_acc = 10\n",
    "        for ep in range(epochs):\n",
    "            print(\"==== EPOCH {} ====\".format(ep))\n",
    "            step = 1\n",
    "            for _X, _Y in self.__iterate_minibatches(X, Y, batch_size):\n",
    "                sess.run(self.Optimizer, feed_dict={self.X: _X, self.Y: _Y})\n",
    "                if step % display_step == 0:\n",
    "                    loss, acc, top5acc = self.calculate_loss(sess, Xt, Yt)\n",
    "                    print(\"Iter \" + str(step) + \", Loss= \" + \\\n",
    "                          \"{:.4f}\".format(loss) + \", Acc= \" + \\\n",
    "                          \"{:.4f}\".format(acc) + \", Top-5 Acc= \" + \\\n",
    "                          \"{:.4f}\".format(top5acc))\n",
    "                step += 1\n",
    "\n",
    "            loss, acc, top5acc = self.calculate_loss(sess, Xt, Yt, size=Xt.shape[0])\n",
    "            print(\"====================================\")\n",
    "            print(\"Epoch {}: Loss={} Acc={} Top-5 Acc={}\".format(ep, loss, acc, top5acc))\n",
    "            print(\"====================================\")\n",
    "            if loss < self.prev_acc:\n",
    "                self.prev_acc = loss\n",
    "                self.saver.save(sess, \"inception_catdogs/{}.tfmodel\".format(self.name))\n",
    "                print(\"++++ Saved BEST LOSS\")"
   ]
  },
  {
   "cell_type": "code",
   "execution_count": 4,
   "metadata": {
    "collapsed": true
   },
   "outputs": [],
   "source": [
    "y = np.array([[1,0]]*12500 + [[0,1]]*12500)"
   ]
  },
  {
   "cell_type": "code",
   "execution_count": 23,
   "metadata": {
    "collapsed": true
   },
   "outputs": [],
   "source": [
    "models = [\n",
    "\"cvd_inception_resnet_v2_depth_100_16\",\n",
    "\"cvd_inception_resnet_v2_depth_150\",   \n",
    "\"cvd_inception_v3_aux_logits\",         \n",
    "\"cvd_inception_v3_deep_logits_aux_logits\",\n",
    "\"cvd_inception_v3_deep_logits\",        \n",
    "\"cvd_inception_v3_depth_150_50\",       \n",
    "\"cvd_inception_v3_depth_200\",          \n",
    "\"cvd_inception_v3_depth_256_64\",       \n",
    "\"cvd_inception_v3_depth_256\",          \n",
    "\"cvd_inception_v4_depth_150\",          \n",
    "\"cvd_model_inception_1\",               \n",
    "\"cvd_model_inception_deep_fc_1\",       \n",
    "\"cvd_model_inception_deep_fc_fulldata_1.Epoch.0\",\n",
    "\"cvd_model_inception_deep_fc_fulldata_1.Epoch.1\",\n",
    "\"cvd_model_inception_deep_fc_fulldata_2.Epoch.0\",\n",
    "\"cvd_model_inception_deep_fc_fulldata_2.Epoch.1\",\n",
    "\"cvd_model_inception_deep_logits_1\",   \n",
    "\"cvd_model_inception_deep_logits_mul_1\",\n",
    "\"cvd_model_inception_resnet_v2_fulldata_2\",\n",
    "\"cvd_model_inception_resnet_v2_fulldata\",\n",
    "\"cvd_model_inception_v3_fulldata_2\",   \n",
    "\"cvd_model_inception_v3_fulldata\",     \n",
    "\"cvd_model_resnet_101_fulldata\",       \n",
    "\"cvd_model_resnet_12\",                 \n",
    "\"cvd_model_resnet_14\",                 \n",
    "\"cvd_model_resnet_152_fulldata\",       \n",
    "\"cvd_model_resnet_15\",                 \n",
    "\"cvd_model_resnet_16\",                 \n",
    "\"cvd_model_resnet_17\",                 \n",
    "\"cvd_model_resnet_18\",                 \n",
    "\"cvd_model_resnet_19\",                 \n",
    "\"cvd_model_resnet_20\",                 \n",
    "\"cvd_model_resnet_21\",                 \n",
    "\"cvd_model_resnet_bag_0\",              \n",
    "\"cvd_model_resnet_bag_1\",              \n",
    "\"cvd_model_resnet_bag_2\",              \n",
    "\"cvd_model_resnet_bag_3\"\n",
    "]"
   ]
  },
  {
   "cell_type": "code",
   "execution_count": 5,
   "metadata": {
    "collapsed": true
   },
   "outputs": [],
   "source": [
    "models = ['cvd_model_inception_1', 'cvd_model_inception_deep_logits_1','cvd_model_inception_deep_logits_mul_1','cvd_model_resnet_12','cvd_model_resnet_14','cvd_model_resnet_15','cvd_model_resnet_16','cvd_model_resnet_17','cvd_model_resnet_18','cvd_model_resnet_19','cvd_model_resnet_20','cvd_model_inception_deep_fc_1','cvd_model_inception_deep_fc_fulldata_1.Epoch.0','cvd_model_inception_deep_fc_fulldata_2.Epoch.0','cvd_inception_v3_deep_logits','cvd_inception_v3_depth_256','cvd_inception_v3_depth_256_64']"
   ]
  },
  {
   "cell_type": "code",
   "execution_count": 6,
   "metadata": {
    "collapsed": false
   },
   "outputs": [],
   "source": [
    "X_models = [ np.load(\"CatVsDogs.X.{}.npy\".format(model)) for model in models ]\n",
    "X = np.hstack([ np.load(\"CatVsDogs.X.{}.npy\".format(model))[:,0].reshape(-1,1) for model in models ])"
   ]
  },
  {
   "cell_type": "markdown",
   "metadata": {},
   "source": [
    "### Make Sure All Good"
   ]
  },
  {
   "cell_type": "code",
   "execution_count": 7,
   "metadata": {
    "collapsed": false
   },
   "outputs": [
    {
     "name": "stdout",
     "output_type": "stream",
     "text": [
      "0.00833256829866\n",
      "0.0111641604343\n",
      "0.00550052262953\n",
      "0.00427015257845\n",
      "0.00477275581812\n",
      "0.00419637327689\n",
      "0.00422180610713\n",
      "0.00444405250078\n",
      "0.00584915895549\n",
      "0.00459733200137\n",
      "0.00478146692282\n",
      "0.00503330499916\n",
      "0.0104604040312\n",
      "0.0118144659257\n",
      "0.0134279905381\n",
      "0.0101840014669\n",
      "0.0144686131459\n"
     ]
    }
   ],
   "source": [
    "for m in X_models:\n",
    "    print(nll(y, m))"
   ]
  },
  {
   "cell_type": "markdown",
   "metadata": {},
   "source": [
    "#### Neural Network"
   ]
  },
  {
   "cell_type": "code",
   "execution_count": 8,
   "metadata": {
    "collapsed": false
   },
   "outputs": [],
   "source": [
    "C = 10000\n",
    "Xt, yt = X[C:], y[C:]\n",
    "# X, y = X[:C], y[:C]"
   ]
  },
  {
   "cell_type": "code",
   "execution_count": 9,
   "metadata": {
    "collapsed": false
   },
   "outputs": [],
   "source": [
    "net = SimpleNetwork(args.name, Xt.shape[1], y.shape[1])"
   ]
  },
  {
   "cell_type": "code",
   "execution_count": 10,
   "metadata": {
    "collapsed": true
   },
   "outputs": [],
   "source": [
    "sess = tf.Session()"
   ]
  },
  {
   "cell_type": "code",
   "execution_count": 11,
   "metadata": {
    "collapsed": false,
    "scrolled": false
   },
   "outputs": [
    {
     "name": "stdout",
     "output_type": "stream",
     "text": [
      "==== EPOCH 0 ====\n",
      "Iter 25, Loss= 0.5913, Acc= 0.9770, Top-5 Acc= 1.0000\n",
      "Iter 50, Loss= 0.5371, Acc= 0.9900, Top-5 Acc= 1.0000\n",
      "Iter 75, Loss= 0.4656, Acc= 0.9930, Top-5 Acc= 1.0000\n",
      "Iter 100, Loss= 0.3986, Acc= 0.9980, Top-5 Acc= 1.0000\n",
      "Iter 125, Loss= 0.3439, Acc= 0.9980, Top-5 Acc= 1.0000\n",
      "Iter 150, Loss= 0.3014, Acc= 1.0000, Top-5 Acc= 1.0000\n",
      "Iter 175, Loss= 0.2764, Acc= 0.9940, Top-5 Acc= 1.0000\n",
      "Iter 200, Loss= 0.2324, Acc= 0.9990, Top-5 Acc= 1.0000\n",
      "Iter 225, Loss= 0.2051, Acc= 0.9990, Top-5 Acc= 1.0000\n",
      "Iter 250, Loss= 0.1812, Acc= 1.0000, Top-5 Acc= 1.0000\n",
      "====================================\n",
      "Epoch 0: Loss=0.184658154845 Acc=0.998399674892 Top-5 Acc=0.999999761581\n",
      "====================================\n",
      "++++ Saved BEST LOSS\n",
      "==== EPOCH 1 ====\n",
      "Iter 25, Loss= 0.1657, Acc= 0.9980, Top-5 Acc= 1.0000\n",
      "Iter 50, Loss= 0.1491, Acc= 0.9980, Top-5 Acc= 1.0000\n",
      "Iter 75, Loss= 0.1334, Acc= 1.0000, Top-5 Acc= 1.0000\n",
      "Iter 100, Loss= 0.1254, Acc= 0.9980, Top-5 Acc= 1.0000\n",
      "Iter 125, Loss= 0.1078, Acc= 1.0000, Top-5 Acc= 1.0000\n",
      "Iter 150, Loss= 0.1078, Acc= 0.9970, Top-5 Acc= 1.0000\n",
      "Iter 175, Loss= 0.0929, Acc= 1.0000, Top-5 Acc= 1.0000\n",
      "Iter 200, Loss= 0.0856, Acc= 0.9990, Top-5 Acc= 1.0000\n",
      "Iter 225, Loss= 0.0796, Acc= 0.9990, Top-5 Acc= 1.0000\n",
      "Iter 250, Loss= 0.0738, Acc= 0.9990, Top-5 Acc= 1.0000\n",
      "====================================\n",
      "Epoch 1: Loss=0.0760122537613 Acc=0.998666286469 Top-5 Acc=0.999999761581\n",
      "====================================\n",
      "++++ Saved BEST LOSS\n",
      "==== EPOCH 2 ====\n",
      "Iter 25, Loss= 0.0684, Acc= 0.9990, Top-5 Acc= 1.0000\n",
      "Iter 50, Loss= 0.0717, Acc= 0.9970, Top-5 Acc= 1.0000\n",
      "Iter 75, Loss= 0.0669, Acc= 0.9970, Top-5 Acc= 1.0000\n",
      "Iter 100, Loss= 0.0577, Acc= 0.9990, Top-5 Acc= 1.0000\n",
      "Iter 125, Loss= 0.0596, Acc= 0.9970, Top-5 Acc= 1.0000\n",
      "Iter 150, Loss= 0.0520, Acc= 0.9990, Top-5 Acc= 1.0000\n",
      "Iter 175, Loss= 0.0483, Acc= 1.0000, Top-5 Acc= 1.0000\n",
      "Iter 200, Loss= 0.0479, Acc= 0.9990, Top-5 Acc= 1.0000\n",
      "Iter 225, Loss= 0.0445, Acc= 0.9990, Top-5 Acc= 1.0000\n",
      "Iter 250, Loss= 0.0445, Acc= 0.9980, Top-5 Acc= 1.0000\n",
      "====================================\n",
      "Epoch 2: Loss=0.0433576963842 Acc=0.998999714851 Top-5 Acc=0.999999761581\n",
      "====================================\n",
      "++++ Saved BEST LOSS\n",
      "==== EPOCH 3 ====\n",
      "Iter 25, Loss= 0.0463, Acc= 0.9970, Top-5 Acc= 1.0000\n",
      "Iter 50, Loss= 0.0417, Acc= 0.9980, Top-5 Acc= 1.0000\n",
      "Iter 75, Loss= 0.0406, Acc= 0.9970, Top-5 Acc= 1.0000\n",
      "Iter 100, Loss= 0.0351, Acc= 0.9990, Top-5 Acc= 1.0000\n",
      "Iter 125, Loss= 0.0333, Acc= 1.0000, Top-5 Acc= 1.0000\n",
      "Iter 150, Loss= 0.0320, Acc= 1.0000, Top-5 Acc= 1.0000\n",
      "Iter 175, Loss= 0.0347, Acc= 0.9980, Top-5 Acc= 1.0000\n",
      "Iter 200, Loss= 0.0284, Acc= 1.0000, Top-5 Acc= 1.0000\n",
      "Iter 225, Loss= 0.0284, Acc= 0.9990, Top-5 Acc= 1.0000\n",
      "Iter 250, Loss= 0.0272, Acc= 1.0000, Top-5 Acc= 1.0000\n",
      "====================================\n",
      "Epoch 3: Loss=0.0291922055185 Acc=0.999066352844 Top-5 Acc=0.999999761581\n",
      "====================================\n",
      "++++ Saved BEST LOSS\n",
      "==== EPOCH 4 ====\n",
      "Iter 25, Loss= 0.0279, Acc= 0.9990, Top-5 Acc= 1.0000\n",
      "Iter 50, Loss= 0.0245, Acc= 1.0000, Top-5 Acc= 1.0000\n",
      "Iter 75, Loss= 0.0245, Acc= 1.0000, Top-5 Acc= 1.0000\n",
      "Iter 100, Loss= 0.0256, Acc= 0.9990, Top-5 Acc= 1.0000\n",
      "Iter 125, Loss= 0.0221, Acc= 1.0000, Top-5 Acc= 1.0000\n",
      "Iter 150, Loss= 0.0268, Acc= 0.9990, Top-5 Acc= 1.0000\n",
      "Iter 175, Loss= 0.0223, Acc= 0.9990, Top-5 Acc= 1.0000\n",
      "Iter 200, Loss= 0.0225, Acc= 0.9990, Top-5 Acc= 1.0000\n",
      "Iter 225, Loss= 0.0245, Acc= 0.9970, Top-5 Acc= 1.0000\n",
      "Iter 250, Loss= 0.0213, Acc= 0.9990, Top-5 Acc= 1.0000\n",
      "====================================\n",
      "Epoch 4: Loss=0.0216961745173 Acc=0.999066233635 Top-5 Acc=0.999999761581\n",
      "====================================\n",
      "++++ Saved BEST LOSS\n",
      "==== EPOCH 5 ====\n",
      "Iter 25, Loss= 0.0189, Acc= 1.0000, Top-5 Acc= 1.0000\n",
      "Iter 50, Loss= 0.0264, Acc= 0.9970, Top-5 Acc= 1.0000\n",
      "Iter 75, Loss= 0.0194, Acc= 0.9990, Top-5 Acc= 1.0000\n",
      "Iter 100, Loss= 0.0180, Acc= 0.9990, Top-5 Acc= 1.0000\n",
      "Iter 125, Loss= 0.0211, Acc= 0.9980, Top-5 Acc= 1.0000\n",
      "Iter 150, Loss= 0.0211, Acc= 0.9990, Top-5 Acc= 1.0000\n",
      "Iter 175, Loss= 0.0163, Acc= 1.0000, Top-5 Acc= 1.0000\n",
      "Iter 200, Loss= 0.0158, Acc= 1.0000, Top-5 Acc= 1.0000\n",
      "Iter 225, Loss= 0.0184, Acc= 0.9980, Top-5 Acc= 1.0000\n",
      "Iter 250, Loss= 0.0167, Acc= 0.9990, Top-5 Acc= 1.0000\n",
      "====================================\n",
      "Epoch 5: Loss=0.0170895084739 Acc=0.99906629324 Top-5 Acc=0.999999761581\n",
      "====================================\n",
      "++++ Saved BEST LOSS\n",
      "==== EPOCH 6 ====\n",
      "Iter 25, Loss= 0.0150, Acc= 1.0000, Top-5 Acc= 1.0000\n",
      "Iter 50, Loss= 0.0140, Acc= 1.0000, Top-5 Acc= 1.0000\n",
      "Iter 75, Loss= 0.0189, Acc= 0.9970, Top-5 Acc= 1.0000\n",
      "Iter 100, Loss= 0.0166, Acc= 0.9980, Top-5 Acc= 1.0000\n",
      "Iter 125, Loss= 0.0159, Acc= 0.9990, Top-5 Acc= 1.0000\n",
      "Iter 150, Loss= 0.0165, Acc= 0.9970, Top-5 Acc= 1.0000\n",
      "Iter 175, Loss= 0.0124, Acc= 1.0000, Top-5 Acc= 1.0000\n",
      "Iter 200, Loss= 0.0141, Acc= 0.9990, Top-5 Acc= 1.0000\n",
      "Iter 225, Loss= 0.0145, Acc= 0.9980, Top-5 Acc= 1.0000\n",
      "Iter 250, Loss= 0.0141, Acc= 0.9990, Top-5 Acc= 1.0000\n",
      "====================================\n",
      "Epoch 6: Loss=0.0140940211713 Acc=0.999066352844 Top-5 Acc=0.999999761581\n",
      "====================================\n",
      "++++ Saved BEST LOSS\n",
      "==== EPOCH 7 ====\n",
      "Iter 25, Loss= 0.0121, Acc= 1.0000, Top-5 Acc= 1.0000\n",
      "Iter 50, Loss= 0.0113, Acc= 1.0000, Top-5 Acc= 1.0000\n",
      "Iter 75, Loss= 0.0109, Acc= 1.0000, Top-5 Acc= 1.0000\n",
      "Iter 100, Loss= 0.0122, Acc= 0.9990, Top-5 Acc= 1.0000\n",
      "Iter 125, Loss= 0.0131, Acc= 0.9980, Top-5 Acc= 1.0000\n",
      "Iter 150, Loss= 0.0104, Acc= 1.0000, Top-5 Acc= 1.0000\n",
      "Iter 175, Loss= 0.0159, Acc= 0.9990, Top-5 Acc= 1.0000\n",
      "Iter 200, Loss= 0.0127, Acc= 0.9980, Top-5 Acc= 1.0000\n",
      "Iter 225, Loss= 0.0110, Acc= 0.9990, Top-5 Acc= 1.0000\n",
      "Iter 250, Loss= 0.0103, Acc= 1.0000, Top-5 Acc= 1.0000\n",
      "====================================\n",
      "Epoch 7: Loss=0.0119849666953 Acc=0.999066352844 Top-5 Acc=0.999999761581\n",
      "====================================\n",
      "++++ Saved BEST LOSS\n",
      "==== EPOCH 8 ====\n",
      "Iter 25, Loss= 0.0120, Acc= 0.9990, Top-5 Acc= 1.0000\n",
      "Iter 50, Loss= 0.0111, Acc= 0.9990, Top-5 Acc= 1.0000\n",
      "Iter 75, Loss= 0.0126, Acc= 0.9980, Top-5 Acc= 1.0000\n",
      "Iter 100, Loss= 0.0139, Acc= 0.9990, Top-5 Acc= 1.0000\n",
      "Iter 125, Loss= 0.0112, Acc= 0.9990, Top-5 Acc= 1.0000\n",
      "Iter 150, Loss= 0.0147, Acc= 0.9990, Top-5 Acc= 1.0000\n",
      "Iter 175, Loss= 0.0088, Acc= 1.0000, Top-5 Acc= 1.0000\n",
      "Iter 200, Loss= 0.0111, Acc= 0.9980, Top-5 Acc= 1.0000\n",
      "Iter 225, Loss= 0.0086, Acc= 1.0000, Top-5 Acc= 1.0000\n",
      "Iter 250, Loss= 0.0141, Acc= 0.9990, Top-5 Acc= 1.0000\n",
      "====================================\n",
      "Epoch 8: Loss=0.0104405470192 Acc=0.999132990837 Top-5 Acc=0.999999761581\n",
      "====================================\n",
      "++++ Saved BEST LOSS\n",
      "==== EPOCH 9 ====\n",
      "Iter 25, Loss= 0.0083, Acc= 1.0000, Top-5 Acc= 1.0000\n",
      "Iter 50, Loss= 0.0084, Acc= 1.0000, Top-5 Acc= 1.0000\n",
      "Iter 75, Loss= 0.0139, Acc= 0.9980, Top-5 Acc= 1.0000\n",
      "Iter 100, Loss= 0.0080, Acc= 1.0000, Top-5 Acc= 1.0000\n",
      "Iter 125, Loss= 0.0110, Acc= 0.9990, Top-5 Acc= 1.0000\n",
      "Iter 150, Loss= 0.0134, Acc= 0.9990, Top-5 Acc= 1.0000\n",
      "Iter 175, Loss= 0.0104, Acc= 0.9980, Top-5 Acc= 1.0000\n",
      "Iter 200, Loss= 0.0075, Acc= 1.0000, Top-5 Acc= 1.0000\n",
      "Iter 225, Loss= 0.0071, Acc= 1.0000, Top-5 Acc= 1.0000\n",
      "Iter 250, Loss= 0.0089, Acc= 0.9990, Top-5 Acc= 1.0000\n",
      "====================================\n",
      "Epoch 9: Loss=0.0092375446111 Acc=0.99919962883 Top-5 Acc=0.999999761581\n",
      "====================================\n",
      "++++ Saved BEST LOSS\n",
      "==== EPOCH 10 ====\n",
      "Iter 25, Loss= 0.0069, Acc= 1.0000, Top-5 Acc= 1.0000\n",
      "Iter 50, Loss= 0.0068, Acc= 1.0000, Top-5 Acc= 1.0000\n",
      "Iter 75, Loss= 0.0069, Acc= 1.0000, Top-5 Acc= 1.0000\n",
      "Iter 100, Loss= 0.0120, Acc= 0.9990, Top-5 Acc= 1.0000\n",
      "Iter 125, Loss= 0.0100, Acc= 0.9980, Top-5 Acc= 1.0000\n",
      "Iter 150, Loss= 0.0090, Acc= 0.9990, Top-5 Acc= 1.0000\n",
      "Iter 175, Loss= 0.0110, Acc= 0.9990, Top-5 Acc= 1.0000\n",
      "Iter 200, Loss= 0.0108, Acc= 0.9990, Top-5 Acc= 1.0000\n",
      "Iter 225, Loss= 0.0064, Acc= 1.0000, Top-5 Acc= 1.0000\n",
      "Iter 250, Loss= 0.0060, Acc= 1.0000, Top-5 Acc= 1.0000\n",
      "====================================\n",
      "Epoch 10: Loss=0.00832794047892 Acc=0.99919962883 Top-5 Acc=0.999999761581\n",
      "====================================\n",
      "++++ Saved BEST LOSS\n",
      "==== EPOCH 11 ====\n",
      "Iter 25, Loss= 0.0063, Acc= 1.0000, Top-5 Acc= 1.0000\n",
      "Iter 50, Loss= 0.0064, Acc= 1.0000, Top-5 Acc= 1.0000\n",
      "Iter 75, Loss= 0.0123, Acc= 0.9990, Top-5 Acc= 1.0000\n",
      "Iter 100, Loss= 0.0066, Acc= 0.9990, Top-5 Acc= 1.0000\n",
      "Iter 125, Loss= 0.0071, Acc= 0.9990, Top-5 Acc= 1.0000\n",
      "Iter 150, Loss= 0.0060, Acc= 1.0000, Top-5 Acc= 1.0000\n",
      "Iter 175, Loss= 0.0063, Acc= 0.9990, Top-5 Acc= 1.0000\n",
      "Iter 200, Loss= 0.0120, Acc= 0.9990, Top-5 Acc= 1.0000\n",
      "Iter 225, Loss= 0.0068, Acc= 0.9990, Top-5 Acc= 1.0000\n",
      "Iter 250, Loss= 0.0074, Acc= 0.9990, Top-5 Acc= 1.0000\n",
      "====================================\n",
      "Epoch 11: Loss=0.00759733561426 Acc=0.999199688435 Top-5 Acc=0.999999761581\n",
      "====================================\n",
      "++++ Saved BEST LOSS\n",
      "==== EPOCH 12 ====\n",
      "Iter 25, Loss= 0.0056, Acc= 1.0000, Top-5 Acc= 1.0000\n",
      "Iter 50, Loss= 0.0054, Acc= 1.0000, Top-5 Acc= 1.0000\n",
      "Iter 75, Loss= 0.0084, Acc= 0.9980, Top-5 Acc= 1.0000\n",
      "Iter 100, Loss= 0.0055, Acc= 1.0000, Top-5 Acc= 1.0000\n",
      "Iter 125, Loss= 0.0073, Acc= 0.9990, Top-5 Acc= 1.0000\n",
      "Iter 150, Loss= 0.0099, Acc= 0.9990, Top-5 Acc= 1.0000\n",
      "Iter 175, Loss= 0.0171, Acc= 0.9980, Top-5 Acc= 1.0000\n",
      "Iter 200, Loss= 0.0054, Acc= 1.0000, Top-5 Acc= 1.0000\n",
      "Iter 225, Loss= 0.0097, Acc= 0.9990, Top-5 Acc= 1.0000\n",
      "Iter 250, Loss= 0.0065, Acc= 0.9990, Top-5 Acc= 1.0000\n",
      "====================================\n",
      "Epoch 12: Loss=0.00699928961694 Acc=0.99919962883 Top-5 Acc=0.999999761581\n",
      "====================================\n",
      "++++ Saved BEST LOSS\n",
      "==== EPOCH 13 ====\n",
      "Iter 25, Loss= 0.0053, Acc= 1.0000, Top-5 Acc= 1.0000\n",
      "Iter 50, Loss= 0.0065, Acc= 0.9980, Top-5 Acc= 1.0000\n",
      "Iter 75, Loss= 0.0053, Acc= 1.0000, Top-5 Acc= 1.0000\n",
      "Iter 100, Loss= 0.0074, Acc= 0.9980, Top-5 Acc= 1.0000\n",
      "Iter 125, Loss= 0.0047, Acc= 1.0000, Top-5 Acc= 1.0000\n",
      "Iter 150, Loss= 0.0059, Acc= 0.9990, Top-5 Acc= 1.0000\n",
      "Iter 175, Loss= 0.0060, Acc= 0.9990, Top-5 Acc= 1.0000\n",
      "Iter 200, Loss= 0.0058, Acc= 0.9990, Top-5 Acc= 1.0000\n",
      "Iter 225, Loss= 0.0161, Acc= 0.9970, Top-5 Acc= 1.0000\n",
      "Iter 250, Loss= 0.0097, Acc= 0.9980, Top-5 Acc= 1.0000\n",
      "====================================\n",
      "Epoch 13: Loss=0.00652056932449 Acc=0.999199569225 Top-5 Acc=0.999999761581\n",
      "====================================\n",
      "++++ Saved BEST LOSS\n",
      "==== EPOCH 14 ====\n",
      "Iter 25, Loss= 0.0059, Acc= 0.9990, Top-5 Acc= 1.0000\n",
      "Iter 50, Loss= 0.0073, Acc= 0.9980, Top-5 Acc= 1.0000\n",
      "Iter 75, Loss= 0.0059, Acc= 0.9990, Top-5 Acc= 1.0000\n",
      "Iter 100, Loss= 0.0096, Acc= 0.9980, Top-5 Acc= 1.0000\n",
      "Iter 125, Loss= 0.0090, Acc= 0.9990, Top-5 Acc= 1.0000\n",
      "Iter 150, Loss= 0.0067, Acc= 0.9980, Top-5 Acc= 1.0000\n",
      "Iter 175, Loss= 0.0061, Acc= 0.9990, Top-5 Acc= 1.0000\n",
      "Iter 200, Loss= 0.0047, Acc= 1.0000, Top-5 Acc= 1.0000\n",
      "Iter 225, Loss= 0.0041, Acc= 1.0000, Top-5 Acc= 1.0000\n",
      "Iter 250, Loss= 0.0043, Acc= 1.0000, Top-5 Acc= 1.0000\n",
      "====================================\n",
      "Epoch 14: Loss=0.00608005188406 Acc=0.999199569225 Top-5 Acc=0.999999761581\n",
      "====================================\n",
      "++++ Saved BEST LOSS\n"
     ]
    }
   ],
   "source": [
    "net.train(sess, X, y, Xt, yt, batch_size=100, epochs=15)"
   ]
  },
  {
   "cell_type": "markdown",
   "metadata": {},
   "source": [
    "#### Make Submission"
   ]
  },
  {
   "cell_type": "code",
   "execution_count": 12,
   "metadata": {
    "collapsed": true
   },
   "outputs": [],
   "source": [
    "import pandas as pd"
   ]
  },
  {
   "cell_type": "code",
   "execution_count": 13,
   "metadata": {
    "collapsed": false
   },
   "outputs": [],
   "source": [
    "_Xt = np.hstack([ np.load(\"CatVsDogs.Xt.{}.npy\".format(model))[:,0].reshape(-1,1) for model in models ])"
   ]
  },
  {
   "cell_type": "code",
   "execution_count": 14,
   "metadata": {
    "collapsed": false
   },
   "outputs": [],
   "source": [
    "logits, probs_ens, idx = net.predict_proba(sess, _Xt, randomize=False, size=_Xt.shape[0])"
   ]
  },
  {
   "cell_type": "code",
   "execution_count": 15,
   "metadata": {
    "collapsed": false
   },
   "outputs": [],
   "source": [
    "submission = np.hstack((np.arange(1, probs_ens.shape[0]+1, 1).reshape(-1, 1), probs_ens[:, 0].reshape(-1,1)))\n",
    "df_submission = pd.DataFrame(submission, columns=[\"id\", \"label\"])\n",
    "df_submission[\"id\"] = df_submission[\"id\"].astype(np.int)\n",
    "df_submission.to_csv(\"submission_{}.csv\".format(\"deep_ensemble_nn_7_clfs_15_epochs\"), index=False)"
   ]
  }
 ],
 "metadata": {
  "kernelspec": {
   "display_name": "Python 2.7 (Tensorflow)",
   "language": "python",
   "name": "tensorflow"
  },
  "language_info": {
   "codemirror_mode": {
    "name": "ipython",
    "version": 2
   },
   "file_extension": ".py",
   "mimetype": "text/x-python",
   "name": "python",
   "nbconvert_exporter": "python",
   "pygments_lexer": "ipython2",
   "version": "2.7.12"
  }
 },
 "nbformat": 4,
 "nbformat_minor": 2
}
